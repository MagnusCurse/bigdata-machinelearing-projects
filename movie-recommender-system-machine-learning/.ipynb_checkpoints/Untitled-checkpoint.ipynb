{
 "cells": [
  {
   "cell_type": "code",
   "execution_count": 1,
   "id": "4526d541-8f52-4454-a87a-8bda8d94a017",
   "metadata": {},
   "outputs": [
    {
     "name": "stdout",
     "output_type": "stream",
     "text": [
      "          id                                          title  \\\n",
      "0        278                       The Shawshank Redemption   \n",
      "1      19404                    Dilwale Dulhania Le Jayenge   \n",
      "2        238                                  The Godfather   \n",
      "3        424                               Schindler's List   \n",
      "4        240                         The Godfather: Part II   \n",
      "...      ...                                            ...   \n",
      "9995   10196                             The Last Airbender   \n",
      "9996  331446                       Sharknado 3: Oh Hell No!   \n",
      "9997   13995                                Captain America   \n",
      "9998    2312  In the Name of the King: A Dungeon Siege Tale   \n",
      "9999  455957                                         Domino   \n",
      "\n",
      "                                                 genre original_language  \\\n",
      "0                                          Drama,Crime                en   \n",
      "1                                 Comedy,Drama,Romance                hi   \n",
      "2                                          Drama,Crime                en   \n",
      "3                                    Drama,History,War                en   \n",
      "4                                          Drama,Crime                en   \n",
      "...                                                ...               ...   \n",
      "9995                          Action,Adventure,Fantasy                en   \n",
      "9996  Action,TV Movie,Science Fiction,Comedy,Adventure                en   \n",
      "9997                        Action,Science Fiction,War                en   \n",
      "9998                    Adventure,Fantasy,Action,Drama                en   \n",
      "9999                             Thriller,Action,Crime                en   \n",
      "\n",
      "                                               overview  popularity  \\\n",
      "0     Framed in the 1940s for the double murder of h...      94.075   \n",
      "1     Raj is a rich, carefree, happy-go-lucky second...      25.408   \n",
      "2     Spanning the years 1945 to 1955, a chronicle o...      90.585   \n",
      "3     The true story of how businessman Oskar Schind...      44.761   \n",
      "4     In the continuing saga of the Corleone crime f...      57.749   \n",
      "...                                                 ...         ...   \n",
      "9995  The story follows the adventures of Aang, a yo...      98.322   \n",
      "9996  The sharks take bite out of the East Coast whe...      12.490   \n",
      "9997  During World War II, a brave, patriotic Americ...      18.333   \n",
      "9998  A man named Farmer sets out to rescue his kidn...      15.159   \n",
      "9999  Seeking justice for his partner’s murder by an...      16.482   \n",
      "\n",
      "     release_date  vote_average  vote_count  \n",
      "0      1994-09-23           8.7       21862  \n",
      "1      1995-10-19           8.7        3731  \n",
      "2      1972-03-14           8.7       16280  \n",
      "3      1993-12-15           8.6       12959  \n",
      "4      1974-12-20           8.6        9811  \n",
      "...           ...           ...         ...  \n",
      "9995   2010-06-30           4.7        3347  \n",
      "9996   2015-07-22           4.7         417  \n",
      "9997   1990-12-14           4.6         332  \n",
      "9998   2007-11-29           4.7         668  \n",
      "9999   2019-05-31           4.6         221  \n",
      "\n",
      "[10000 rows x 9 columns]\n"
     ]
    }
   ],
   "source": [
    "import pandas as pd\n",
    "\n",
    "data = pd.read_csv('dataset.csv')\n",
    "\n",
    "print(data)"
   ]
  },
  {
   "cell_type": "code",
   "execution_count": null,
   "id": "fe80779c-9c60-4bf2-a2ee-f25beb8ab08c",
   "metadata": {},
   "outputs": [],
   "source": []
  }
 ],
 "metadata": {
  "kernelspec": {
   "display_name": "Python 3 (ipykernel)",
   "language": "python",
   "name": "python3"
  },
  "language_info": {
   "codemirror_mode": {
    "name": "ipython",
    "version": 3
   },
   "file_extension": ".py",
   "mimetype": "text/x-python",
   "name": "python",
   "nbconvert_exporter": "python",
   "pygments_lexer": "ipython3",
   "version": "3.12.2"
  }
 },
 "nbformat": 4,
 "nbformat_minor": 5
}
